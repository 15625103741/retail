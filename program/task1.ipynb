{
 "cells": [
  {
   "cell_type": "markdown",
   "metadata": {},
   "source": [
    "##  读取csv"
   ]
  },
  {
   "cell_type": "code",
   "execution_count": 30,
   "metadata": {},
   "outputs": [
    {
     "name": "stdout",
     "output_type": "stream",
     "text": [
      "附件一的数据类型为： \n",
      " (70680, 9)\n"
     ]
    }
   ],
   "source": [
    "import pandas as pd\n",
    "import os\n",
    "import sys\n",
    "import numpy as np\n",
    "import matplotlib.pyplot as plt\n",
    "import seaborn as sns\n",
    "#设置工作空间f\n",
    "os.chdir(r'E:/Taidy')\n",
    "\n",
    "## 使用read_csv读取\n",
    "order = pd.read_csv('Data/附件1.csv', engine = 'python', encoding = 'gbk')\n",
    "print('附件一的数据类型为：', '\\n', order.shape)\n",
    "\n",
    "order['支付时间'] = pd.to_datetime(order['支付时间'], errors = 'coerce', format = '%Y-%m-%d')"
   ]
  },
  {
   "cell_type": "markdown",
   "metadata": {},
   "source": [
    "## 清洗数据"
   ]
  },
  {
   "cell_type": "markdown",
   "metadata": {},
   "source": [
    "### 检测与处理缺失值"
   ]
  },
  {
   "cell_type": "code",
   "execution_count": 31,
   "metadata": {},
   "outputs": [
    {
     "name": "stdout",
     "output_type": "stream",
     "text": [
      "缺失值数量:\n",
      " 订单号     0\n",
      "设备ID    0\n",
      "应付金额    0\n",
      "实际金额    0\n",
      "商品      0\n",
      "支付时间    1\n",
      "地点      0\n",
      "状态      0\n",
      "提现      0\n",
      "dtype: int64\n"
     ]
    }
   ],
   "source": [
    "#数据清洗，去缺失值\n",
    "print('缺失值数量:\\n', order.isnull().sum())"
   ]
  },
  {
   "cell_type": "code",
   "execution_count": 32,
   "metadata": {},
   "outputs": [
    {
     "name": "stdout",
     "output_type": "stream",
     "text": [
      "去除缺失值之前：  (70680, 9)\n",
      "去除缺失值之后：  (70679, 9)\n"
     ]
    }
   ],
   "source": [
    "#数据清洗，去缺失值\n",
    "print('去除缺失值之前： ',order.shape)\n",
    "order = order.dropna()\n",
    "print('去除缺失值之后： ',order.shape)"
   ]
  },
  {
   "cell_type": "markdown",
   "metadata": {},
   "source": [
    "### 检测并处理重复值"
   ]
  },
  {
   "cell_type": "code",
   "execution_count": 33,
   "metadata": {},
   "outputs": [
    {
     "name": "stdout",
     "output_type": "stream",
     "text": [
      "去重前附件一的形状为： (70679, 9)\n",
      "附件一样本去重后的长度为： 70679\n"
     ]
    }
   ],
   "source": [
    "print('去重前附件一的形状为：',order.shape)\n",
    "\n",
    "##样本去重\n",
    "order.drop_duplicates(inplace = True)\n",
    "print('附件一样本去重后的长度为：',len(order))\n"
   ]
  },
  {
   "cell_type": "markdown",
   "metadata": {},
   "source": [
    "### 检测与处理异常值"
   ]
  },
  {
   "cell_type": "code",
   "execution_count": 34,
   "metadata": {},
   "outputs": [
    {
     "name": "stdout",
     "output_type": "stream",
     "text": [
      "应付金额最小值为： 0.8\n",
      "应付金额最大值为： 6.5\n",
      "实际金额最小值为： 0.8\n",
      "实际金额最大值为： 6.5\n"
     ]
    }
   ],
   "source": [
    "# -*- coding: gbk -*-\n",
    "\n",
    "##定义异常值识别与处理函数\n",
    "def outRange(Ser1):\n",
    "    QL = Ser1.quantile(0.25)\n",
    "    QU = Ser1.quantile(0.75)\n",
    "    IQR = QU-QL\n",
    "    Ser1.loc[Ser1>(QU+1.5*IQR)] = QU\n",
    "    Ser1.loc[Ser1<(QL-1.5*IQR)] = QL\n",
    "    return Ser1\n",
    "## 处理应付金额和实际金额的异常值\n",
    "order['应付金额'] = outRange(order['应付金额'])\n",
    "order['实际金额'] = outRange(order['实际金额'])\n",
    "\n",
    "##查看处理后的应付金额和实际金额的最小值，最大值\n",
    "print('应付金额最小值为：', order['应付金额'].min())\n",
    "print('应付金额最大值为：', order['应付金额'].max())\n",
    "print('实际金额最小值为：', order['实际金额'].min())\n",
    "print('实际金额最大值为：', order['实际金额'].max())"
   ]
  },
  {
   "cell_type": "code",
   "execution_count": 35,
   "metadata": {
    "scrolled": false
   },
   "outputs": [
    {
     "name": "stdout",
     "output_type": "stream",
     "text": [
      "数据预处理后附件一的形状: (70679, 9)\n"
     ]
    }
   ],
   "source": [
    "print('数据预处理后附件一的形状:', order.shape)\n",
    "appendix1 = order.to_csv('Data/appendix1.csv', sep = ';', index = True)"
   ]
  },
  {
   "cell_type": "markdown",
   "metadata": {},
   "source": [
    "## 提取每台售货机对应的销售数据，保存到csv文件中"
   ]
  },
  {
   "cell_type": "code",
   "execution_count": 36,
   "metadata": {},
   "outputs": [
    {
     "name": "stdout",
     "output_type": "stream",
     "text": [
      "每台售货机对应的销售数据写入文本目录后文件列表为：\n",
      " ['.~lock.appendix_1.csv#', '.~lock.附件1.csv#', '.~lock.附件2.csv#', 'appendix1.csv', 'appendix_1.csv', 'app_merge.csv', 'task1-1A.csv', 'task1-1B.csv', 'task1-1C.csv', 'task1-1D.csv', 'task1-1E.csv', 'task1.csv', 'task2', 'task2-4+0.xlsx', 'task2_4.xlsx', 'task3', '~$task2-4+0.xlsx', '附件1.csv', '附件2.csv']\n"
     ]
    }
   ],
   "source": [
    "order1 = order.iloc[(order['地点']=='A').values,[0, 1, 2, 3, 4, 5, 6, 7, 8]]\n",
    "order1.to_csv('Data/task1-1A.csv', sep = ';', index = False)\n",
    "\n",
    "order2 = order.iloc[(order['地点']=='B').values,[0, 1, 2, 3, 4, 5, 6, 7, 8]]\n",
    "order2.to_csv('Data/task1-1B.csv', sep = ';', index = False)\n",
    "\n",
    "order3 = order.iloc[(order['地点']=='C').values,[0, 1, 2, 3, 4, 5, 6, 7, 8]]\n",
    "order3.to_csv('Data/task1-1C.csv', sep = ';', index = False)\n",
    "\n",
    "order4 = order.iloc[(order['地点']=='D').values,[0, 1, 2, 3, 4, 5, 6, 7, 8]]\n",
    "order4.to_csv('Data/task1-1D.csv', sep = ';', index = False)\n",
    "\n",
    "order5 = order.iloc[(order['地点']=='E').values,[0, 1, 2, 3, 4, 5, 6, 7, 8]]\n",
    "order5.to_csv('Data/task1-1E.csv', sep = ';', index = False)\n",
    "\n",
    "\n",
    "print('每台售货机对应的销售数据写入文本目录后文件列表为：\\n', os.listdir('Data'))\n"
   ]
  },
  {
   "cell_type": "code",
   "execution_count": 37,
   "metadata": {
    "scrolled": true
   },
   "outputs": [
    {
     "name": "stdout",
     "output_type": "stream",
     "text": [
      "A处售货机的月订单号总数和实际金额总数为：\n",
      "         订单号    实际金额\n",
      "month              \n",
      "1       335  1206.2\n",
      "2       114   374.0\n",
      "3       255   810.2\n",
      "4       447  1618.2\n",
      "5       756  2816.8\n",
      "6      1669  5850.4\n",
      "7       476  1702.3\n",
      "8       666  2078.1\n",
      "9      1040  3811.0\n",
      "10     1565  5458.7\n",
      "11     1160  4335.8\n",
      "12     2003  6808.1\n",
      "B处售货机的月订单号总数和实际金额总数为：\n",
      "         订单号    实际金额\n",
      "month              \n",
      "1       366  1250.5\n",
      "2       185   580.8\n",
      "3       265   886.8\n",
      "4       603  2111.8\n",
      "5       869  3223.8\n",
      "6      1856  6589.0\n",
      "7       345  1248.2\n",
      "8       981  3335.2\n",
      "9      1745  6088.9\n",
      "10     2026  7291.7\n",
      "11     2031  7094.8\n",
      "12     2210  7484.6\n",
      "C处售货机的月订单号总数和实际金额总数为：\n",
      "         订单号    实际金额\n",
      "month              \n",
      "1       379  1382.2\n",
      "2       207   738.5\n",
      "3       263   927.5\n",
      "4       734  2755.5\n",
      "5       789  2993.8\n",
      "6      1882  6738.6\n",
      "7       764  2699.4\n",
      "8      1259  4560.0\n",
      "9      1678  6110.9\n",
      "10     2216  8182.7\n",
      "11     1943  7085.4\n",
      "12     2379  8485.6\n",
      "D处售货机的月订单号总数和实际金额总数为：\n",
      "         订单号    实际金额\n",
      "month              \n",
      "1       259   887.8\n",
      "2       141   419.5\n",
      "3       192   668.0\n",
      "4       443  1563.6\n",
      "5       564  2047.9\n",
      "6      1040  3776.7\n",
      "7       317  1108.8\n",
      "8       715  2273.5\n",
      "9       983  3396.2\n",
      "10     1186  4123.2\n",
      "11     1210  4190.6\n",
      "12     1663  5498.7\n",
      "E处售货机的月订单号总数和实际金额总数为：\n",
      "         订单号     实际金额\n",
      "month               \n",
      "1       354   1335.9\n",
      "2       258    878.3\n",
      "3       350   1447.0\n",
      "4       895   3210.3\n",
      "5      1292   4996.1\n",
      "6      2593   9049.0\n",
      "7       813   2840.1\n",
      "8      1767   6384.1\n",
      "9      4134  15164.3\n",
      "10     2777   9738.9\n",
      "11     5020  18935.3\n",
      "12     3252  12044.4\n"
     ]
    }
   ],
   "source": [
    "import numpy as np\n",
    "\n",
    "order1['month'] = [i.month for i in order1['支付时间']]\n",
    "detailGroup1 = order1[['month','订单号','实际金额']].groupby(by='month')\n",
    "\n",
    "order2['month'] = [i.month for i in order2['支付时间']]\n",
    "detailGroup2 = order2[['month','订单号','实际金额']].groupby(by='month')\n",
    "\n",
    "order3['month'] = [i.month for i in order3['支付时间']]\n",
    "detailGroup3 = order3[['month','订单号','实际金额']].groupby(by='month')\n",
    "\n",
    "order4['month'] = [i.month for i in order4['支付时间']]\n",
    "detailGroup4 = order4[['month','订单号','实际金额']].groupby(by='month')\n",
    "\n",
    "order5['month'] = [i.month for i in order5['支付时间']]\n",
    "detailGroup5 = order5[['month','订单号','实际金额']].groupby(by='month')\n",
    "\n",
    "Group1 = detailGroup1.agg({'订单号':np.size,'实际金额':np.sum})\n",
    "Group2 = detailGroup2.agg({'订单号':np.size,'实际金额':np.sum})\n",
    "Group3 = detailGroup3.agg({'订单号':np.size,'实际金额':np.sum})\n",
    "Group4 = detailGroup4.agg({'订单号':np.size,'实际金额':np.sum})\n",
    "Group5 = detailGroup5.agg({'订单号':np.size,'实际金额':np.sum})\n",
    "\n",
    "print('A处售货机的月订单号总数和实际金额总数为：\\n', Group1)\n",
    "print('B处售货机的月订单号总数和实际金额总数为：\\n', Group2)\n",
    "print('C处售货机的月订单号总数和实际金额总数为：\\n', Group3)\n",
    "print('D处售货机的月订单号总数和实际金额总数为：\\n', Group4)\n",
    "print('E处售货机的月订单号总数和实际金额总数为：\\n', Group5)\n",
    "\n",
    "\n"
   ]
  },
  {
   "cell_type": "code",
   "execution_count": 38,
   "metadata": {},
   "outputs": [
    {
     "data": {
      "text/html": [
       "<div>\n",
       "<style scoped>\n",
       "    .dataframe tbody tr th:only-of-type {\n",
       "        vertical-align: middle;\n",
       "    }\n",
       "\n",
       "    .dataframe tbody tr th {\n",
       "        vertical-align: top;\n",
       "    }\n",
       "\n",
       "    .dataframe thead th {\n",
       "        text-align: right;\n",
       "    }\n",
       "</style>\n",
       "<table border=\"1\" class=\"dataframe\">\n",
       "  <thead>\n",
       "    <tr style=\"text-align: right;\">\n",
       "      <th></th>\n",
       "      <th>订单号</th>\n",
       "      <th>实际金额</th>\n",
       "    </tr>\n",
       "    <tr>\n",
       "      <th>month</th>\n",
       "      <th></th>\n",
       "      <th></th>\n",
       "    </tr>\n",
       "  </thead>\n",
       "  <tbody>\n",
       "    <tr>\n",
       "      <td>1</td>\n",
       "      <td>335</td>\n",
       "      <td>1206.2</td>\n",
       "    </tr>\n",
       "    <tr>\n",
       "      <td>2</td>\n",
       "      <td>114</td>\n",
       "      <td>374.0</td>\n",
       "    </tr>\n",
       "    <tr>\n",
       "      <td>3</td>\n",
       "      <td>255</td>\n",
       "      <td>810.2</td>\n",
       "    </tr>\n",
       "    <tr>\n",
       "      <td>4</td>\n",
       "      <td>447</td>\n",
       "      <td>1618.2</td>\n",
       "    </tr>\n",
       "    <tr>\n",
       "      <td>5</td>\n",
       "      <td>756</td>\n",
       "      <td>2816.8</td>\n",
       "    </tr>\n",
       "    <tr>\n",
       "      <td>6</td>\n",
       "      <td>1669</td>\n",
       "      <td>5850.4</td>\n",
       "    </tr>\n",
       "    <tr>\n",
       "      <td>7</td>\n",
       "      <td>476</td>\n",
       "      <td>1702.3</td>\n",
       "    </tr>\n",
       "    <tr>\n",
       "      <td>8</td>\n",
       "      <td>666</td>\n",
       "      <td>2078.1</td>\n",
       "    </tr>\n",
       "    <tr>\n",
       "      <td>9</td>\n",
       "      <td>1040</td>\n",
       "      <td>3811.0</td>\n",
       "    </tr>\n",
       "    <tr>\n",
       "      <td>10</td>\n",
       "      <td>1565</td>\n",
       "      <td>5458.7</td>\n",
       "    </tr>\n",
       "    <tr>\n",
       "      <td>11</td>\n",
       "      <td>1160</td>\n",
       "      <td>4335.8</td>\n",
       "    </tr>\n",
       "    <tr>\n",
       "      <td>12</td>\n",
       "      <td>2003</td>\n",
       "      <td>6808.1</td>\n",
       "    </tr>\n",
       "  </tbody>\n",
       "</table>\n",
       "</div>"
      ],
      "text/plain": [
       "        订单号    实际金额\n",
       "month              \n",
       "1       335  1206.2\n",
       "2       114   374.0\n",
       "3       255   810.2\n",
       "4       447  1618.2\n",
       "5       756  2816.8\n",
       "6      1669  5850.4\n",
       "7       476  1702.3\n",
       "8       666  2078.1\n",
       "9      1040  3811.0\n",
       "10     1565  5458.7\n",
       "11     1160  4335.8\n",
       "12     2003  6808.1"
      ]
     },
     "execution_count": 38,
     "metadata": {},
     "output_type": "execute_result"
    }
   ],
   "source": [
    "Group1"
   ]
  },
  {
   "cell_type": "code",
   "execution_count": 45,
   "metadata": {
    "scrolled": true
   },
   "outputs": [
    {
     "name": "stdout",
     "output_type": "stream",
     "text": [
      "A处售货机每月的每单平均交易额：\n",
      "            实际金额\n",
      "month          \n",
      "1      3.600597\n",
      "2      3.280702\n",
      "3      3.177255\n",
      "4      3.620134\n",
      "5      3.725926\n",
      "6      3.505333\n",
      "7      3.576261\n",
      "8      3.120270\n",
      "9      3.664423\n",
      "10     3.487987\n",
      "11     3.737759\n",
      "12     3.398952\n",
      "B处售货机每月的每单平均交易额：\n",
      "            实际金额\n",
      "month          \n",
      "1      3.416667\n",
      "2      3.139459\n",
      "3      3.346415\n",
      "4      3.502156\n",
      "5      3.709781\n",
      "6      3.550108\n",
      "7      3.617971\n",
      "8      3.399796\n",
      "9      3.489341\n",
      "10     3.599062\n",
      "11     3.493255\n",
      "12     3.386697\n",
      "C处售货机每月的每单平均交易额：\n",
      "            实际金额\n",
      "month          \n",
      "1      3.646966\n",
      "2      3.567633\n",
      "3      3.526616\n",
      "4      3.754087\n",
      "5      3.794423\n",
      "6      3.580553\n",
      "7      3.533246\n",
      "8      3.621922\n",
      "9      3.641776\n",
      "10     3.692554\n",
      "11     3.646629\n",
      "12     3.566877\n",
      "D处售货机每月的每单平均交易额：\n",
      "            实际金额\n",
      "month          \n",
      "1      3.427799\n",
      "2      2.975177\n",
      "3      3.479167\n",
      "4      3.529571\n",
      "5      3.631028\n",
      "6      3.631442\n",
      "7      3.497792\n",
      "8      3.179720\n",
      "9      3.454934\n",
      "10     3.476560\n",
      "11     3.463306\n",
      "12     3.306494\n",
      "E处售货机每月的每单平均交易额：\n",
      "            实际金额\n",
      "month          \n",
      "1      3.773729\n",
      "2      3.404264\n",
      "3      4.134286\n",
      "4      3.586927\n",
      "5      3.866950\n",
      "6      3.489780\n",
      "7      3.493358\n",
      "8      3.612960\n",
      "9      3.668191\n",
      "10     3.506986\n",
      "11     3.771972\n",
      "12     3.703690\n"
     ]
    }
   ],
   "source": [
    "print('A处售货机每月的每单平均交易额：\\n', detailGroup1.agg({'实际金额':np.mean}))\n",
    "print('B处售货机每月的每单平均交易额：\\n', detailGroup2.agg({'实际金额':np.mean}))\n",
    "print('C处售货机每月的每单平均交易额：\\n', detailGroup3.agg({'实际金额':np.mean}))\n",
    "print('D处售货机每月的每单平均交易额：\\n', detailGroup4.agg({'实际金额':np.mean}))\n",
    "print('E处售货机每月的每单平均交易额：\\n', detailGroup5.agg({'实际金额':np.mean}))\n"
   ]
  },
  {
   "cell_type": "code",
   "execution_count": 53,
   "metadata": {
    "scrolled": true
   },
   "outputs": [
    {
     "name": "stdout",
     "output_type": "stream",
     "text": [
      "A处售货机每月的日均订单量为：\n",
      " 支付时间\n",
      "2017-01-31    10.806452\n",
      "2017-02-28     4.071429\n",
      "2017-03-31     8.225806\n",
      "2017-04-30    14.900000\n",
      "2017-05-31    24.387097\n",
      "2017-06-30    55.633333\n",
      "2017-07-31    15.354839\n",
      "2017-08-31    21.483871\n",
      "2017-09-30    34.666667\n",
      "2017-10-31    50.483871\n",
      "2017-11-30    38.666667\n",
      "2017-12-31    64.612903\n",
      "Freq: M, Name: 订单号, dtype: float64\n",
      "B处售货机每月的日均订单量为：\n",
      " 支付时间\n",
      "2017-01-31    11.806452\n",
      "2017-02-28     6.607143\n",
      "2017-03-31     8.548387\n",
      "2017-04-30    20.100000\n",
      "2017-05-31    28.032258\n",
      "2017-06-30    61.866667\n",
      "2017-07-31    11.129032\n",
      "2017-08-31    31.645161\n",
      "2017-09-30    58.166667\n",
      "2017-10-31    65.354839\n",
      "2017-11-30    67.700000\n",
      "2017-12-31    71.290323\n",
      "Freq: M, Name: 订单号, dtype: float64\n",
      "C处售货机每月的日均订单量为：\n",
      " 支付时间\n",
      "2017-01-31    12.225806\n",
      "2017-02-28     7.392857\n",
      "2017-03-31     8.483871\n",
      "2017-04-30    24.466667\n",
      "2017-05-31    25.451613\n",
      "2017-06-30    62.733333\n",
      "2017-07-31    24.645161\n",
      "2017-08-31    40.612903\n",
      "2017-09-30    55.933333\n",
      "2017-10-31    71.483871\n",
      "2017-11-30    64.766667\n",
      "2017-12-31    76.741935\n",
      "Freq: M, Name: 订单号, dtype: float64\n",
      "D处售货机每月的日均订单量为：\n",
      " 支付时间\n",
      "2017-01-31     8.354839\n",
      "2017-02-28     5.035714\n",
      "2017-03-31     6.193548\n",
      "2017-04-30    14.766667\n",
      "2017-05-31    18.193548\n",
      "2017-06-30    34.666667\n",
      "2017-07-31    10.225806\n",
      "2017-08-31    23.064516\n",
      "2017-09-30    32.766667\n",
      "2017-10-31    38.258065\n",
      "2017-11-30    40.333333\n",
      "2017-12-31    53.645161\n",
      "Freq: M, Name: 订单号, dtype: float64\n",
      "E处售货机每月的日均订单量为：\n",
      " 支付时间\n",
      "2017-01-31     11.419355\n",
      "2017-02-28      9.214286\n",
      "2017-03-31     11.290323\n",
      "2017-04-30     29.833333\n",
      "2017-05-31     41.677419\n",
      "2017-06-30     86.433333\n",
      "2017-07-31     26.225806\n",
      "2017-08-31     57.000000\n",
      "2017-09-30    137.800000\n",
      "2017-10-31     89.580645\n",
      "2017-11-30    167.333333\n",
      "2017-12-31    104.903226\n",
      "Freq: M, Name: 订单号, dtype: float64\n"
     ]
    }
   ],
   "source": [
    "daily1 = order1.set_index('支付时间').groupby(pd.Grouper(freq='D'))['订单号'].count()\n",
    "monthly1 = daily1.groupby(pd.Grouper(freq='M')).mean()\n",
    "\n",
    "daily2 = order2.set_index('支付时间').groupby(pd.Grouper(freq='D'))['订单号'].count()\n",
    "monthly2 = daily2.groupby(pd.Grouper(freq='M')).mean()\n",
    "\n",
    "daily3 = order3.set_index('支付时间').groupby(pd.Grouper(freq='D'))['订单号'].count()\n",
    "monthly3 = daily3.groupby(pd.Grouper(freq='M')).mean()\n",
    "\n",
    "daily4 = order4.set_index('支付时间').groupby(pd.Grouper(freq='D'))['订单号'].count()\n",
    "monthly4 = daily4.groupby(pd.Grouper(freq='M')).mean()\n",
    "\n",
    "daily5 = order5.set_index('支付时间').groupby(pd.Grouper(freq='D'))['订单号'].count()\n",
    "monthly5 = daily5.groupby(pd.Grouper(freq='M')).mean()\n",
    "\n",
    "\n",
    "print('A处售货机每月的日均订单量为：\\n', monthly1)\n",
    "print('B处售货机每月的日均订单量为：\\n', monthly2)\n",
    "print('C处售货机每月的日均订单量为：\\n', monthly3)\n",
    "print('D处售货机每月的日均订单量为：\\n', monthly4)\n",
    "print('E处售货机每月的日均订单量为：\\n', monthly5)"
   ]
  },
  {
   "cell_type": "code",
   "execution_count": null,
   "metadata": {},
   "outputs": [],
   "source": []
  },
  {
   "cell_type": "code",
   "execution_count": null,
   "metadata": {},
   "outputs": [],
   "source": []
  }
 ],
 "metadata": {
  "kernelspec": {
   "display_name": "Python 3",
   "language": "python",
   "name": "python3"
  },
  "language_info": {
   "codemirror_mode": {
    "name": "ipython",
    "version": 3
   },
   "file_extension": ".py",
   "mimetype": "text/x-python",
   "name": "python",
   "nbconvert_exporter": "python",
   "pygments_lexer": "ipython3",
   "version": "3.7.1"
  }
 },
 "nbformat": 4,
 "nbformat_minor": 2
}
